{
  "nbformat": 4,
  "nbformat_minor": 0,
  "metadata": {
    "colab": {
      "name": "Untitled4.ipynb",
      "provenance": [],
      "include_colab_link": true
    },
    "kernelspec": {
      "name": "python3",
      "display_name": "Python 3"
    },
    "language_info": {
      "name": "python"
    }
  },
  "cells": [
    {
      "cell_type": "markdown",
      "metadata": {
        "id": "view-in-github",
        "colab_type": "text"
      },
      "source": [
        "<a href=\"https://colab.research.google.com/github/CaperKen/M733_Fall_2020/blob/master/M731_TU_.ipynb\" target=\"_parent\"><img src=\"https://colab.research.google.com/assets/colab-badge.svg\" alt=\"Open In Colab\"/></a>"
      ]
    },
    {
      "cell_type": "code",
      "metadata": {
        "id": "rImT41PaafJs"
      },
      "source": [
        "import pandas as pd\n",
        "from mlxtend.frequent_patterns import apriori\n",
        "from mlxtend.frequent_patterns import association_rules"
      ],
      "execution_count": null,
      "outputs": []
    },
    {
      "cell_type": "code",
      "metadata": {
        "id": "8fm4nwR0bBa6"
      },
      "source": [
        "data = pd.read_csv('UtilizedPlatforms.csv')"
      ],
      "execution_count": null,
      "outputs": []
    },
    {
      "cell_type": "code",
      "metadata": {
        "id": "Ph9Dt9bJbMwg"
      },
      "source": [
        "df = data"
      ],
      "execution_count": null,
      "outputs": []
    },
    {
      "cell_type": "markdown",
      "metadata": {
        "id": "5x560VVvbMbV"
      },
      "source": [
        ""
      ]
    },
    {
      "cell_type": "code",
      "metadata": {
        "colab": {
          "base_uri": "https://localhost:8080/"
        },
        "id": "KF_0Dj9LbyQy",
        "outputId": "1ba67ee2-4e15-419a-a890-1405709c4917"
      },
      "source": [
        "print(df)"
      ],
      "execution_count": null,
      "outputs": [
        {
          "output_type": "stream",
          "text": [
            "     Twitter  Facebook  YouTube  Instagram  TikTok  Reddit  None of the above\n",
            "0        NaN       NaN      NaN        NaN     NaN     NaN                NaN\n",
            "1        0.0       0.0      1.0        0.0     0.0     0.0                0.0\n",
            "2        0.0       0.0      1.0        0.0     0.0     0.0                0.0\n",
            "3        NaN       NaN      NaN        NaN     NaN     NaN                NaN\n",
            "4        0.0       0.0      1.0        0.0     0.0     0.0                0.0\n",
            "..       ...       ...      ...        ...     ...     ...                ...\n",
            "126      NaN       NaN      NaN        NaN     NaN     NaN                NaN\n",
            "127      NaN       NaN      NaN        NaN     NaN     NaN                NaN\n",
            "128      NaN       NaN      NaN        NaN     NaN     NaN                NaN\n",
            "129      NaN       NaN      NaN        NaN     NaN     NaN                NaN\n",
            "130      0.0       1.0      0.0        1.0     0.0     0.0                0.0\n",
            "\n",
            "[131 rows x 7 columns]\n"
          ],
          "name": "stdout"
        }
      ]
    },
    {
      "cell_type": "code",
      "metadata": {
        "colab": {
          "base_uri": "https://localhost:8080/"
        },
        "id": "pC2LMkByb7bj",
        "outputId": "31877197-3183-4195-bbfb-992ced6bf402"
      },
      "source": [
        "import math\n",
        "df = df.dropna()\n",
        "df = df.astype(int)\n",
        "print(df)"
      ],
      "execution_count": null,
      "outputs": [
        {
          "output_type": "stream",
          "text": [
            "     Twitter  Facebook  YouTube  Instagram  TikTok  Reddit  None of the above\n",
            "1          0         0        1          0       0       0                  0\n",
            "2          0         0        1          0       0       0                  0\n",
            "4          0         0        1          0       0       0                  0\n",
            "6          0         0        0          1       0       1                  0\n",
            "9          1         0        1          0       0       0                  0\n",
            "11         0         0        1          1       1       0                  0\n",
            "13         0         0        0          1       0       0                  0\n",
            "14         0         0        1          0       0       0                  0\n",
            "16         0         0        0          1       0       0                  0\n",
            "17         0         0        1          1       0       0                  0\n",
            "19         0         0        1          0       0       0                  0\n",
            "22         0         0        1          0       0       0                  0\n",
            "27         0         0        0          1       0       0                  0\n",
            "29         0         1        1          1       0       0                  0\n",
            "30         0         0        0          1       1       0                  0\n",
            "33         0         0        1          0       0       0                  0\n",
            "34         0         0        1          1       0       0                  0\n",
            "36         0         0        0          1       0       0                  0\n",
            "37         0         0        0          1       0       0                  0\n",
            "38         0         0        1          1       0       0                  0\n",
            "41         0         1        1          1       0       0                  0\n",
            "42         0         0        1          1       0       0                  0\n",
            "43         0         0        1          1       0       0                  0\n",
            "45         0         1        0          1       0       0                  0\n",
            "46         0         0        1          1       0       0                  0\n",
            "48         0         0        1          0       0       0                  0\n",
            "50         1         0        0          1       0       0                  0\n",
            "51         0         0        0          1       1       0                  0\n",
            "52         0         0        0          1       0       0                  0\n",
            "53         0         0        1          1       0       0                  0\n",
            "55         0         0        0          1       0       0                  0\n",
            "64         0         0        0          1       0       0                  0\n",
            "69         0         0        0          1       0       0                  0\n",
            "71         0         0        0          1       0       0                  0\n",
            "72         0         1        0          0       0       0                  0\n",
            "78         0         0        1          1       0       0                  0\n",
            "82         0         0        1          1       0       0                  0\n",
            "87         0         1        0          0       0       0                  0\n",
            "90         1         0        0          0       0       0                  0\n",
            "91         0         0        0          1       0       0                  0\n",
            "92         0         0        1          0       0       0                  0\n",
            "93         0         0        1          1       1       0                  0\n",
            "96         0         0        0          1       0       0                  0\n",
            "106        0         0        0          1       0       0                  0\n",
            "108        0         0        0          1       0       0                  0\n",
            "111        0         0        1          1       0       0                  0\n",
            "124        0         0        1          1       0       0                  0\n",
            "130        0         1        0          1       0       0                  0\n"
          ],
          "name": "stdout"
        }
      ]
    },
    {
      "cell_type": "code",
      "metadata": {
        "colab": {
          "base_uri": "https://localhost:8080/"
        },
        "id": "dQK8TfPUd1Ui",
        "outputId": "b686fd02-be7a-479d-c056-8d74bfee037b"
      },
      "source": [
        "frequencySets = apriori(df, min_support=0.01, use_colnames=True)\n",
        "print(frequencySets)"
      ],
      "execution_count": null,
      "outputs": [
        {
          "output_type": "stream",
          "text": [
            "     support                        itemsets\n",
            "0   0.062500                       (Twitter)\n",
            "1   0.125000                      (Facebook)\n",
            "2   0.520833                       (YouTube)\n",
            "3   0.729167                     (Instagram)\n",
            "4   0.083333                        (TikTok)\n",
            "5   0.020833                        (Reddit)\n",
            "6   0.020833              (YouTube, Twitter)\n",
            "7   0.020833            (Instagram, Twitter)\n",
            "8   0.041667             (Facebook, YouTube)\n",
            "9   0.083333           (Facebook, Instagram)\n",
            "10  0.312500            (Instagram, YouTube)\n",
            "11  0.041667               (YouTube, TikTok)\n",
            "12  0.083333             (Instagram, TikTok)\n",
            "13  0.020833             (Instagram, Reddit)\n",
            "14  0.041667  (Facebook, Instagram, YouTube)\n",
            "15  0.041667    (Instagram, YouTube, TikTok)\n"
          ],
          "name": "stdout"
        }
      ]
    },
    {
      "cell_type": "markdown",
      "metadata": {
        "id": "KkmPIUONiR0P"
      },
      "source": [
        "the next question starts from here"
      ]
    },
    {
      "cell_type": "code",
      "metadata": {
        "id": "H3OFSYbqiMTD"
      },
      "source": [
        "data1 = pd.read_csv('/content/PromoType.csv')\n",
        "df1 = data1"
      ],
      "execution_count": null,
      "outputs": []
    },
    {
      "cell_type": "code",
      "metadata": {
        "colab": {
          "base_uri": "https://localhost:8080/"
        },
        "id": "L-TrnJIfiRHl",
        "outputId": "a19a8f57-e023-4800-bad3-d86e2347731d"
      },
      "source": [
        "df1 = df1.dropna()\n",
        "df1 = df1.astype(int)\n",
        "\n",
        "print(df1)"
      ],
      "execution_count": null,
      "outputs": [
        {
          "output_type": "stream",
          "text": [
            "     P_Dis  Giveaway  BOGO  F_Samples  F_ship  Contest  no_dis  Other  None\n",
            "1        1         0     0          0       1        0       1      0     0\n",
            "2        1         1     0          1       0        1       0      0     0\n",
            "4        1         1     0          0       0        0       0      0     0\n",
            "6        1         1     1          1       1        1       1      0     0\n",
            "9        1         0     1          1       1        1       0      0     0\n",
            "11       1         1     1          1       1        1       1      0     0\n",
            "13       0         0     0          1       0        0       1      0     0\n",
            "14       1         0     0          0       0        0       0      0     0\n",
            "16       1         1     0          1       1        1       0      0     0\n",
            "17       0         1     0          0       1        0       1      0     0\n",
            "19       1         1     0          1       0        0       0      0     0\n",
            "22       1         0     1          0       0        0       0      0     0\n",
            "27       1         1     0          0       0        0       0      0     0\n",
            "29       1         0     0          0       0        0       0      0     0\n",
            "30       1         1     1          0       1        0       0      0     0\n",
            "33       1         1     0          0       0        0       0      0     0\n",
            "34       1         0     0          0       0        0       1      0     0\n",
            "36       0         0     0          0       0        1       0      0     0\n",
            "37       1         0     0          0       0        1       0      0     0\n",
            "38       1         1     1          0       0        0       0      0     0\n",
            "41       1         0     0          0       0        0       0      0     0\n",
            "42       1         1     1          0       0        0       1      0     0\n",
            "43       1         1     1          1       1        0       0      0     0\n",
            "45       1         1     1          1       1        1       1      0     0\n",
            "46       0         1     0          0       0        0       0      0     0\n",
            "48       1         0     0          1       0        0       0      0     0\n",
            "50       1         1     1          1       1        1       1      0     0\n",
            "51       1         0     0          1       1        0       1      0     0\n",
            "52       0         0     0          0       0        0       1      0     0\n",
            "53       1         1     0          1       1        1       0      0     0\n",
            "55       0         0     0          1       0        0       0      0     0\n",
            "64       0         1     0          0       0        1       1      0     0\n",
            "69       1         0     0          0       0        0       0      0     0\n",
            "71       1         0     0          0       0        0       0      0     0\n",
            "72       0         0     0          0       0        0       1      0     0\n",
            "78       1         0     0          0       0        0       0      0     0\n",
            "82       1         0     1          0       0        0       0      0     0\n",
            "87       0         1     1          0       0        1       0      0     0\n",
            "90       1         0     0          0       0        0       0      0     0\n",
            "91       0         1     1          0       1        0       0      0     0\n",
            "92       1         1     0          1       0        0       0      0     0\n",
            "93       1         1     0          1       1        0       0      0     0\n",
            "96       0         1     0          1       0        1       0      0     0\n",
            "106      1         0     0          0       1        0       0      0     0\n",
            "108      1         1     0          1       0        1       0      0     0\n",
            "111      0         1     1          1       1        1       1      0     0\n",
            "124      1         1     1          0       0        0       1      0     0\n",
            "130      1         1     1          1       0        1       1      0     0\n"
          ],
          "name": "stdout"
        }
      ]
    },
    {
      "cell_type": "code",
      "metadata": {
        "colab": {
          "base_uri": "https://localhost:8080/"
        },
        "id": "c6P3_T55ioLK",
        "outputId": "31969a63-77f5-44c2-813e-cc0a06a5dd08"
      },
      "source": [
        "frequencySets1 = apriori(df1, min_support=0.30, use_colnames=True)\n",
        "print(frequencySets1)"
      ],
      "execution_count": null,
      "outputs": [
        {
          "output_type": "stream",
          "text": [
            "    support               itemsets\n",
            "0  0.750000                (P_Dis)\n",
            "1  0.562500             (Giveaway)\n",
            "2  0.333333                 (BOGO)\n",
            "3  0.416667            (F_Samples)\n",
            "4  0.333333               (F_ship)\n",
            "5  0.333333              (Contest)\n",
            "6  0.333333               (no_dis)\n",
            "7  0.416667      (P_Dis, Giveaway)\n",
            "8  0.333333     (F_Samples, P_Dis)\n",
            "9  0.312500  (F_Samples, Giveaway)\n"
          ],
          "name": "stdout"
        }
      ]
    }
  ]
}